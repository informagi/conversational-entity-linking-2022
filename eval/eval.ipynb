{
 "cells": [
  {
   "cell_type": "markdown",
   "metadata": {},
   "source": [
    "Evaluation\n",
    "=========="
   ]
  },
  {
   "cell_type": "code",
   "execution_count": 1,
   "metadata": {},
   "outputs": [],
   "source": [
    "# Set the runs files where annotations are stored\n",
    "# The format should be (name_of_the_run, dataset_type, path_to_the_run_file) where:\n",
    "#   - name_of_the_run: the name of the run which is shown in the results table\n",
    "#   - dataset_type: this should be either 'Test', 'Val', or 'ConEL21-PE' (see the paper for the details)\n",
    "#   - path_to_the_run_file: the path to the json run file\n",
    "runs = [\n",
    "    ('CREL', 'Val', './runs/Val/CREL-WO-PE.json'),\n",
    "    ('CREL+PE-W2V', 'Val', './runs/Val/CREL-W2V.json'),\n",
    "    ('CREL+PE-S2E_ON-TD', 'Val', './runs/Val/CREL-S2E_ON-TD.json'),\n",
    "    ('CREL', 'Test', './runs/Test/CREL-WO-PE.json'),\n",
    "    ('CREL+PE-W2V', 'Test', './runs/Test/CREL-W2V.json'),\n",
    "    ('CREL+PE-S2E_ON-TD', 'Test', './runs/Test/CREL-S2E_ON-TD.json'),\n",
    "    ('CREL', 'ConEL21-PE', './runs/ConEL21-PE/CREL-WO-PE.json'),\n",
    "    ('CREL+PE-W2V', 'ConEL21-PE', './runs/ConEL21-PE/CREL-W2V.json'),\n",
    "    ('CREL+PE-S2E_ON-TD', 'ConEL21-PE', './runs/ConEL21-PE/CREL-S2E_ON-TD.json'),\n",
    "]"
   ]
  },
  {
   "cell_type": "code",
   "execution_count": 2,
   "metadata": {},
   "outputs": [
    {
     "name": "stdout",
     "output_type": "stream",
     "text": [
      "Passed sanity test\n",
      "Reading ./runs/Val/CREL-WO-PE.json\n",
      "Reading ./runs/Val/CREL-W2V.json\n",
      "Reading ./runs/Val/CREL-S2E_ON-TD.json\n",
      "Reading ./runs/Test/CREL-WO-PE.json\n",
      "Reading ./runs/Test/CREL-W2V.json\n",
      "Reading ./runs/Test/CREL-S2E_ON-TD.json\n",
      "Reading ./runs/ConEL21-PE/CREL-WO-PE.json\n",
      "Reading ./runs/ConEL21-PE/CREL-W2V.json\n",
      "Reading ./runs/ConEL21-PE/CREL-S2E_ON-TD.json\n"
     ]
    },
    {
     "data": {
      "text/html": [
       "<style type=\"text/css\">\n",
       "#T_40189_row2_col0, #T_40189_row2_col1, #T_40189_row2_col2, #T_40189_row2_col3, #T_40189_row2_col4, #T_40189_row2_col5, #T_40189_row2_col6, #T_40189_row2_col7, #T_40189_row2_col8 {\n",
       "  background-color: yellow;\n",
       "}\n",
       "</style>\n",
       "<table id=\"T_40189_\">\n",
       "  <thead>\n",
       "    <tr>\n",
       "      <th class=\"blank level0\" >&nbsp;</th>\n",
       "      <th class=\"col_heading level0 col0\" colspan=\"3\">Val</th>\n",
       "      <th class=\"col_heading level0 col3\" colspan=\"3\">Test</th>\n",
       "      <th class=\"col_heading level0 col6\" colspan=\"3\">ConEL21-PE</th>\n",
       "    </tr>\n",
       "    <tr>\n",
       "      <th class=\"blank level1\" >&nbsp;</th>\n",
       "      <th class=\"col_heading level1 col0\" >P</th>\n",
       "      <th class=\"col_heading level1 col1\" >R</th>\n",
       "      <th class=\"col_heading level1 col2\" >F</th>\n",
       "      <th class=\"col_heading level1 col3\" >P</th>\n",
       "      <th class=\"col_heading level1 col4\" >R</th>\n",
       "      <th class=\"col_heading level1 col5\" >F</th>\n",
       "      <th class=\"col_heading level1 col6\" >P</th>\n",
       "      <th class=\"col_heading level1 col7\" >R</th>\n",
       "      <th class=\"col_heading level1 col8\" >F</th>\n",
       "    </tr>\n",
       "  </thead>\n",
       "  <tbody>\n",
       "    <tr>\n",
       "      <th id=\"T_40189_level0_row0\" class=\"row_heading level0 row0\" >CREL</th>\n",
       "      <td id=\"T_40189_row0_col0\" class=\"data row0 col0\" >0.711584</td>\n",
       "      <td id=\"T_40189_row0_col1\" class=\"data row0 col1\" >0.530864</td>\n",
       "      <td id=\"T_40189_row0_col2\" class=\"data row0 col2\" >0.608081</td>\n",
       "      <td id=\"T_40189_row0_col3\" class=\"data row0 col3\" >0.628788</td>\n",
       "      <td id=\"T_40189_row0_col4\" class=\"data row0 col4\" >0.500000</td>\n",
       "      <td id=\"T_40189_row0_col5\" class=\"data row0 col5\" >0.557047</td>\n",
       "      <td id=\"T_40189_row0_col6\" class=\"data row0 col6\" >0.598086</td>\n",
       "      <td id=\"T_40189_row0_col7\" class=\"data row0 col7\" >0.628141</td>\n",
       "      <td id=\"T_40189_row0_col8\" class=\"data row0 col8\" >0.612745</td>\n",
       "    </tr>\n",
       "    <tr>\n",
       "      <th id=\"T_40189_level0_row1\" class=\"row_heading level0 row1\" >CREL+PE-W2V</th>\n",
       "      <td id=\"T_40189_row1_col0\" class=\"data row1 col0\" >0.636190</td>\n",
       "      <td id=\"T_40189_row1_col1\" class=\"data row1 col1\" >0.589065</td>\n",
       "      <td id=\"T_40189_row1_col2\" class=\"data row1 col2\" >0.611722</td>\n",
       "      <td id=\"T_40189_row1_col3\" class=\"data row1 col3\" >0.606593</td>\n",
       "      <td id=\"T_40189_row1_col4\" class=\"data row1 col4\" >0.554217</td>\n",
       "      <td id=\"T_40189_row1_col5\" class=\"data row1 col5\" >0.579224</td>\n",
       "      <td id=\"T_40189_row1_col6\" class=\"data row1 col6\" >0.572581</td>\n",
       "      <td id=\"T_40189_row1_col7\" class=\"data row1 col7\" >0.713568</td>\n",
       "      <td id=\"T_40189_row1_col8\" class=\"data row1 col8\" >0.635347</td>\n",
       "    </tr>\n",
       "    <tr>\n",
       "      <th id=\"T_40189_level0_row2\" class=\"row_heading level0 row2\" >CREL+PE-S2E_ON-TD</th>\n",
       "      <td id=\"T_40189_row2_col0\" class=\"data row2 col0\" >0.711864</td>\n",
       "      <td id=\"T_40189_row2_col1\" class=\"data row2 col1\" >0.592593</td>\n",
       "      <td id=\"T_40189_row2_col2\" class=\"data row2 col2\" >0.646776</td>\n",
       "      <td id=\"T_40189_row2_col3\" class=\"data row2 col3\" >0.633708</td>\n",
       "      <td id=\"T_40189_row2_col4\" class=\"data row2 col4\" >0.566265</td>\n",
       "      <td id=\"T_40189_row2_col5\" class=\"data row2 col5\" >0.598091</td>\n",
       "      <td id=\"T_40189_row2_col6\" class=\"data row2 col6\" >0.600000</td>\n",
       "      <td id=\"T_40189_row2_col7\" class=\"data row2 col7\" >0.723618</td>\n",
       "      <td id=\"T_40189_row2_col8\" class=\"data row2 col8\" >0.656036</td>\n",
       "    </tr>\n",
       "  </tbody>\n",
       "</table>\n"
      ],
      "text/plain": [
       "<pandas.io.formats.style.Styler at 0x7f15c2cc5a30>"
      ]
     },
     "execution_count": 2,
     "metadata": {},
     "output_type": "execute_result"
    }
   ],
   "source": [
    "# Import Metrics class, which calculate precision, recall, and F1 metrics and create results table\n",
    "from results import Metrics\n",
    "\n",
    "# First, create Metrics object\n",
    "# `ments_already_normalized` needs to be false if you want to evaluate your own run\n",
    "metrics = Metrics(runs, ments_already_normalized=True) \n",
    "\n",
    "# Then, create results table\n",
    "table = metrics.create_table() \n",
    "table.style.highlight_max(axis=0)"
   ]
  }
 ],
 "metadata": {
  "interpreter": {
   "hash": "128a64e3192f779c64bbb557d60c476da79ece9829d82b90de28d9437cdee345"
  },
  "kernelspec": {
   "display_name": "Python 3.8.12 ('220111_mturk')",
   "language": "python",
   "name": "python3"
  },
  "language_info": {
   "codemirror_mode": {
    "name": "ipython",
    "version": 3
   },
   "file_extension": ".py",
   "mimetype": "text/x-python",
   "name": "python",
   "nbconvert_exporter": "python",
   "pygments_lexer": "ipython3",
   "version": "3.8.12"
  },
  "orig_nbformat": 4
 },
 "nbformat": 4,
 "nbformat_minor": 2
}

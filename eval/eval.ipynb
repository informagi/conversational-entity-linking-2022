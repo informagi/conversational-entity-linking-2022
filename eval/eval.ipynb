{
 "cells": [
  {
   "cell_type": "markdown",
   "metadata": {},
   "source": [
    "Evaluation\n",
    "=========="
   ]
  },
  {
   "cell_type": "code",
   "execution_count": null,
   "metadata": {},
   "outputs": [],
   "source": [
    "# Set the runs files where annotations are stored\n",
    "# The format should be (name_of_the_run, dataset_type, path_to_the_run_file) where:\n",
    "#   - name_of_the_run: the name of the run which is shown in the results table\n",
    "#   - dataset_type: this should be either 'Test', 'Val', or 'ConEL21-PE' (see the paper for the details)\n",
    "#   - path_to_the_run_file: the path to the json run file\n",
    "runs = [\n",
    "\n",
    "    # Baseline (WAT)\n",
    "    ('WAT+W2V', 'Val', './runs/Val/WAT-W2V.json'),\n",
    "    ('WAT+S2E_ast_ON', 'Val', './runs/Val/WAT-S2E_ast_ON.json'),\n",
    "    ('WAT+W2V', 'Test', './runs/Test/WAT-W2V.json'),\n",
    "    ('WAT+S2E_ast_ON', 'Test', './runs/Test/WAT-S2E_ast_ON.json'),\n",
    "    ('WAT+W2V', 'ConEL21-PE', './runs/ConEL21-PE/WAT-W2V.json'),\n",
    "    ('WAT+S2E_ast_ON', 'ConEL21-PE', './runs/ConEL21-PE/WAT-S2E_ast_ON.json'),\n",
    "\n",
    "    # Ours (CREL)\n",
    "    ('CREL+W2V', 'Val', './runs/Val/CREL-W2V.json'),\n",
    "    ('CREL+S2E_ast_ON', 'Val', './runs/Val/CREL-S2E_ast_ON.json'),\n",
    "    ('CREL+W2V', 'Test', './runs/Test/CREL-W2V.json'),\n",
    "    ('CREL+S2E_ast_ON', 'Test', './runs/Test/CREL-S2E_ast_ON.json'),\n",
    "    ('CREL+W2V', 'ConEL21-PE', './runs/ConEL21-PE/CREL-W2V.json'),\n",
    "    ('CREL+S2E_ast_ON', 'ConEL21-PE', './runs/ConEL21-PE/CREL-S2E_ast_ON.json'),\n",
    "]"
   ]
  },
  {
   "cell_type": "code",
   "execution_count": null,
   "metadata": {},
   "outputs": [],
   "source": [
    "# Import Metrics class, which calculate precision, recall, and F1 metrics and create results table\n",
    "from results import Metrics\n",
    "\n",
    "# First, create Metrics object\n",
    "# `ments_already_normalized` needs to be false if you want to evaluate your own run\n",
    "# `eval_concepts_and_named_entities` needs to be true if you want to evaluate only concepts and named entities\n",
    "metrics = Metrics(runs, ments_already_normalized=True, eval_concepts_and_named_entities=False)\n",
    "\n",
    "# Then, create results table\n",
    "table = metrics.create_table()\n",
    "\n",
    "table.style.highlight_max(axis=0)"
   ]
  },
  {
   "cell_type": "code",
   "execution_count": null,
   "metadata": {},
   "outputs": [],
   "source": []
  },
  {
   "cell_type": "code",
   "execution_count": null,
   "metadata": {},
   "outputs": [],
   "source": []
  }
 ],
 "metadata": {
  "interpreter": {
   "hash": "128a64e3192f779c64bbb557d60c476da79ece9829d82b90de28d9437cdee345"
  },
  "kernelspec": {
   "display_name": "Python 3.8.12 ('220111_mturk')",
   "language": "python",
   "name": "python3"
  },
  "language_info": {
   "codemirror_mode": {
    "name": "ipython",
    "version": 3
   },
   "file_extension": ".py",
   "mimetype": "text/x-python",
   "name": "python",
   "nbconvert_exporter": "python",
   "pygments_lexer": "ipython3",
   "version": "3.8.12"
  },
  "orig_nbformat": 4
 },
 "nbformat": 4,
 "nbformat_minor": 2
}

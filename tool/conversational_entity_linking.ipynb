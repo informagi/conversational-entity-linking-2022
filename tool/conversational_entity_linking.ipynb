{
 "cells": [
  {
   "cell_type": "code",
   "execution_count": null,
   "metadata": {},
   "outputs": [],
   "source": [
    "import os\n",
    "os.environ[\"CUDA_VISIBLE_DEVICES\"]=\"1\""
   ]
  },
  {
   "cell_type": "code",
   "execution_count": null,
   "metadata": {},
   "outputs": [],
   "source": [
    "# Confirm the existence of the models\n",
    "assert os.path.exists('./bert_conv-td'), 'MD model file not found. Please download the model file following the instructions in the README.md.'\n",
    "assert os.path.exists('./rel_conv_project_folder'), 'ED model file not found. Please download the model file following the instructions in the README.md.'\n",
    "assert os.path.exists('./s2e_pe/model/s2e_ast_onto'), 'PE Linking model folder not found. Please download the model file following the instructions in the README.md.'"
   ]
  },
  {
   "cell_type": "code",
   "execution_count": null,
   "metadata": {},
   "outputs": [],
   "source": [
    "def print_results(results):\n",
    "    for res in results:\n",
    "        print(f'{res[\"speaker\"][:4]}: {res[\"utterance\"]}')\n",
    "        if res[\"speaker\"] == 'SYSTEM': continue\n",
    "        for ann in res['annotations']:\n",
    "            print('\\t', ann)"
   ]
  },
  {
   "cell_type": "code",
   "execution_count": null,
   "metadata": {},
   "outputs": [],
   "source": [
    "from conv_el import ConvEL\n",
    "cel = ConvEL()"
   ]
  },
  {
   "cell_type": "code",
   "execution_count": null,
   "metadata": {},
   "outputs": [],
   "source": [
    "conv_example_1 = [\n",
    "    {\"speaker\": \"USER\", \n",
    "    \"utterance\": \"I think science fiction is an amazing genre for anything. Future science, technology, time travel, FTL travel, they're all such interesting concepts.\",}, \n",
    "\n",
    "    # System turn should not have mentions or pems\n",
    "    {\"speaker\": \"SYSTEM\", \n",
    "    \"utterance\": \"Awesome! I really love how sci-fi storytellers focus on political/social/philosophical issues that would still be around even in the future. Makes them relatable.\",},\n",
    "\n",
    "    {\"speaker\": \"USER\", \n",
    "    \"utterance\": \"I agree. One of my favorite forms of science fiction is anything related to time travel! I find it fascinating.\",},\n",
    "]\n",
    "\n",
    "result_1 = cel.annotate(conv_example_1)"
   ]
  },
  {
   "cell_type": "code",
   "execution_count": null,
   "metadata": {},
   "outputs": [],
   "source": [
    "print_results(result_1)"
   ]
  },
  {
   "cell_type": "code",
   "execution_count": null,
   "metadata": {},
   "outputs": [],
   "source": [
    "conv_example_2 = [\n",
    "    {\"speaker\": \"USER\", \n",
    "    \"utterance\": \"I am allergic to tomatoes but we have a lot of famous Italian restaurants here in London.\",}, \n",
    "\n",
    "    # System turn should not have mentions or pems\n",
    "    {\"speaker\": \"SYSTEM\", \n",
    "    \"utterance\": \"Some people are allergic to histamine in tomatoes.\",},\n",
    "\n",
    "    {\"speaker\": \"USER\", \n",
    "    \"utterance\": \"Talking of food, can you recommend me a restaurant in my city for our anniversary?\",},\n",
    "]\n",
    "\n",
    "result_2 = cel.annotate(conv_example_2)"
   ]
  },
  {
   "cell_type": "code",
   "execution_count": null,
   "metadata": {},
   "outputs": [],
   "source": [
    "print_results(result_2)"
   ]
  }
 ],
 "metadata": {
  "interpreter": {
   "hash": "a53556614ea0d196de1dd499c6cd4b1019f00d4a13a34e20ba99029df2a473df"
  },
  "kernelspec": {
   "display_name": "Python 3.8.13 ('220429_conel22_github')",
   "language": "python",
   "name": "python3"
  },
  "language_info": {
   "codemirror_mode": {
    "name": "ipython",
    "version": 3
   },
   "file_extension": ".py",
   "mimetype": "text/x-python",
   "name": "python",
   "nbconvert_exporter": "python",
   "pygments_lexer": "ipython3",
   "version": "3.8.13"
  },
  "orig_nbformat": 4
 },
 "nbformat": 4,
 "nbformat_minor": 2
}

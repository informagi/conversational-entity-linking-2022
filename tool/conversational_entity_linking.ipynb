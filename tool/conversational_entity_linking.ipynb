{
 "cells": [
  {
   "cell_type": "code",
   "execution_count": 7,
   "metadata": {},
   "outputs": [
    {
     "ename": "ModuleNotFoundError",
     "evalue": "No module named 'REL.utils'",
     "output_type": "error",
     "traceback": [
      "\u001b[0;31m---------------------------------------------------------------------------\u001b[0m",
      "\u001b[0;31mModuleNotFoundError\u001b[0m                       Traceback (most recent call last)",
      "\u001b[1;32m/scratch/hjoko/.jupyter/py38_hjoko/220111_EMNLP22/220427_GitHub/git/conversational-entity-linking-2022/tool/conversational_entity_linking.ipynb Cell 1'\u001b[0m in \u001b[0;36m<cell line: 2>\u001b[0;34m()\u001b[0m\n\u001b[1;32m      <a href='vscode-notebook-cell://ssh-remote%2Btusi.cs.ru.nl/scratch/hjoko/.jupyter/py38_hjoko/220111_EMNLP22/220427_GitHub/git/conversational-entity-linking-2022/tool/conversational_entity_linking.ipynb#ch0000006vscode-remote?line=0'>1</a>\u001b[0m \u001b[39m# from REL.REL.utils import process_results\u001b[39;00m\n\u001b[0;32m----> <a href='vscode-notebook-cell://ssh-remote%2Btusi.cs.ru.nl/scratch/hjoko/.jupyter/py38_hjoko/220111_EMNLP22/220427_GitHub/git/conversational-entity-linking-2022/tool/conversational_entity_linking.ipynb#ch0000006vscode-remote?line=1'>2</a>\u001b[0m \u001b[39mfrom\u001b[39;00m \u001b[39mREL\u001b[39;00m\u001b[39m.\u001b[39;00m\u001b[39mREL\u001b[39;00m\u001b[39m.\u001b[39;00m\u001b[39mentity_disambiguation\u001b[39;00m \u001b[39mimport\u001b[39;00m EntityDisambiguation\n",
      "File \u001b[0;32m/scratch/hjoko/.jupyter/py38_hjoko/220111_EMNLP22/220427_GitHub/git/conversational-entity-linking-2022/tool/REL/REL/entity_disambiguation.py:20\u001b[0m, in \u001b[0;36m<module>\u001b[0;34m\u001b[0m\n\u001b[1;32m     <a href='file:///scratch/hjoko/.jupyter/py38_hjoko/220111_EMNLP22/220427_GitHub/git/conversational-entity-linking-2022/tool/REL/REL/entity_disambiguation.py?line=16'>17</a>\u001b[0m \u001b[39mfrom\u001b[39;00m \u001b[39msklearn\u001b[39;00m\u001b[39m.\u001b[39;00m\u001b[39mmetrics\u001b[39;00m \u001b[39mimport\u001b[39;00m f1_score\n\u001b[1;32m     <a href='file:///scratch/hjoko/.jupyter/py38_hjoko/220111_EMNLP22/220427_GitHub/git/conversational-entity-linking-2022/tool/REL/REL/entity_disambiguation.py?line=17'>18</a>\u001b[0m \u001b[39mfrom\u001b[39;00m \u001b[39mtorch\u001b[39;00m\u001b[39m.\u001b[39;00m\u001b[39mautograd\u001b[39;00m \u001b[39mimport\u001b[39;00m Variable\n\u001b[0;32m---> <a href='file:///scratch/hjoko/.jupyter/py38_hjoko/220111_EMNLP22/220427_GitHub/git/conversational-entity-linking-2022/tool/REL/REL/entity_disambiguation.py?line=19'>20</a>\u001b[0m \u001b[39mimport\u001b[39;00m \u001b[39mREL\u001b[39;00m\u001b[39m.\u001b[39;00m\u001b[39mutils\u001b[39;00m \u001b[39mas\u001b[39;00m \u001b[39mutils\u001b[39;00m\n\u001b[1;32m     <a href='file:///scratch/hjoko/.jupyter/py38_hjoko/220111_EMNLP22/220427_GitHub/git/conversational-entity-linking-2022/tool/REL/REL/entity_disambiguation.py?line=20'>21</a>\u001b[0m \u001b[39mfrom\u001b[39;00m \u001b[39mREL\u001b[39;00m\u001b[39m.\u001b[39;00m\u001b[39mdb\u001b[39;00m\u001b[39m.\u001b[39;00m\u001b[39mgeneric\u001b[39;00m \u001b[39mimport\u001b[39;00m GenericLookup\n\u001b[1;32m     <a href='file:///scratch/hjoko/.jupyter/py38_hjoko/220111_EMNLP22/220427_GitHub/git/conversational-entity-linking-2022/tool/REL/REL/entity_disambiguation.py?line=21'>22</a>\u001b[0m \u001b[39mfrom\u001b[39;00m \u001b[39mREL\u001b[39;00m\u001b[39m.\u001b[39;00m\u001b[39mmulrel_ranker\u001b[39;00m \u001b[39mimport\u001b[39;00m MulRelRanker, PreRank\n",
      "\u001b[0;31mModuleNotFoundError\u001b[0m: No module named 'REL.utils'"
     ]
    }
   ],
   "source": [
    "# from REL.REL.utils import process_results\n",
    "from REL.REL.entity_disambiguation import EntityDisambiguation"
   ]
  },
  {
   "cell_type": "code",
   "execution_count": null,
   "metadata": {},
   "outputs": [],
   "source": []
  }
 ],
 "metadata": {
  "interpreter": {
   "hash": "a53556614ea0d196de1dd499c6cd4b1019f00d4a13a34e20ba99029df2a473df"
  },
  "kernelspec": {
   "display_name": "Python 3.8.13 ('220429_conel22_github')",
   "language": "python",
   "name": "python3"
  },
  "language_info": {
   "codemirror_mode": {
    "name": "ipython",
    "version": 3
   },
   "file_extension": ".py",
   "mimetype": "text/x-python",
   "name": "python",
   "nbconvert_exporter": "python",
   "pygments_lexer": "ipython3",
   "version": "3.8.13"
  },
  "orig_nbformat": 4
 },
 "nbformat": 4,
 "nbformat_minor": 2
}
